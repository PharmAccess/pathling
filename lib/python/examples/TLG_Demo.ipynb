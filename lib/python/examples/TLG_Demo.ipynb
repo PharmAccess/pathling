{
 "cells": [
  {
   "cell_type": "code",
   "execution_count": 1,
   "id": "066d0e48",
   "metadata": {
    "pycharm": {
     "name": "#%%\n"
    }
   },
   "outputs": [
    {
     "name": "stderr",
     "output_type": "stream",
     "text": [
      "WARNING: An illegal reflective access operation has occurred\n",
      "WARNING: Illegal reflective access by org.apache.spark.unsafe.Platform (file:/Users/gri306/opt/miniconda3/envs/pathling-dev/lib/python3.8/site-packages/pyspark/jars/spark-unsafe_2.12-3.2.1.jar) to constructor java.nio.DirectByteBuffer(long,int)\n",
      "WARNING: Please consider reporting this to the maintainers of org.apache.spark.unsafe.Platform\n",
      "WARNING: Use --illegal-access=warn to enable warnings of further illegal reflective access operations\n",
      "WARNING: All illegal access operations will be denied in a future release\n",
      "22/04/28 12:37:36 WARN NativeCodeLoader: Unable to load native-hadoop library for your platform... using builtin-java classes where applicable\n",
      "Using Spark's default log4j profile: org/apache/spark/log4j-defaults.properties\n",
      "Setting default log level to \"WARN\".\n",
      "To adjust logging level use sc.setLogLevel(newLevel). For SparkR, use setLogLevel(newLevel).\n"
     ]
    }
   ],
   "source": [
    "from pyspark.sql import SparkSession\n",
    "from pyspark.sql.functions import *\n",
    "\n",
    "from pathling.etc import find_jar\n",
    "from pathling.r4 import bundles\n",
    "from pathling.tlg import PathlingContext\n",
    "\n",
    "# Configure spark session to include pathling jar\n",
    "spark = SparkSession.builder \\\n",
    "    .appName('pathling-test') \\\n",
    "    .master('local[2]') \\\n",
    "    .config('spark.jars', find_jar()) \\\n",
    "    .getOrCreate()"
   ]
  },
  {
   "cell_type": "code",
   "execution_count": 2,
   "id": "6a41766b",
   "metadata": {
    "pycharm": {
     "name": "#%%\n"
    }
   },
   "outputs": [
    {
     "name": "stderr",
     "output_type": "stream",
     "text": [
      "22/04/28 12:37:40 WARN package: Truncated the string representation of a plan since it was too large. This behavior can be adjusted by setting 'spark.sql.debug.maxToStringFields'.\n",
      "                                                                                \r"
     ]
    },
    {
     "data": {
      "text/plain": "                                      id  \\\n0   c879c300-7fdf-4b53-aa6a-a2b4a266b30c   \n1   bb9c4fc1-795a-4492-b065-1f497fe18bb2   \n2   e620d7ee-6cfe-4f04-ba06-1d0b39f7624d   \n3   0447de38-1f2a-411c-9fd2-a9c62ab1f221   \n4   4025ceb3-04a6-41fb-8569-16a8dcce7ccc   \n..                                   ...   \n66  171ad058-c082-46ab-b9cc-d7bba6e4e3cd   \n67  f1fd855c-802c-417a-ab7c-14a3c9daafc6   \n68  aa5a32b3-3993-4eb5-afce-489d0e7413cf   \n69  eb373264-da60-4e98-af7c-e3021fdd8d4b   \n70  5300158c-92cb-40fe-bc14-a449d7b3c1c5   \n\n                                      id_versioned  \\\n0   Condition/c879c300-7fdf-4b53-aa6a-a2b4a266b30c   \n1   Condition/bb9c4fc1-795a-4492-b065-1f497fe18bb2   \n2   Condition/e620d7ee-6cfe-4f04-ba06-1d0b39f7624d   \n3   Condition/0447de38-1f2a-411c-9fd2-a9c62ab1f221   \n4   Condition/4025ceb3-04a6-41fb-8569-16a8dcce7ccc   \n..                                             ...   \n66  Condition/171ad058-c082-46ab-b9cc-d7bba6e4e3cd   \n67  Condition/f1fd855c-802c-417a-ab7c-14a3c9daafc6   \n68  Condition/aa5a32b3-3993-4eb5-afce-489d0e7413cf   \n69  Condition/eb373264-da60-4e98-af7c-e3021fdd8d4b   \n70  Condition/5300158c-92cb-40fe-bc14-a449d7b3c1c5   \n\n                                          meta implicitRules language  \\\n0   (None, None, None, None, None, [], [], [])          None     None   \n1   (None, None, None, None, None, [], [], [])          None     None   \n2   (None, None, None, None, None, [], [], [])          None     None   \n3   (None, None, None, None, None, [], [], [])          None     None   \n4   (None, None, None, None, None, [], [], [])          None     None   \n..                                         ...           ...      ...   \n66  (None, None, None, None, None, [], [], [])          None     None   \n67  (None, None, None, None, None, [], [], [])          None     None   \n68  (None, None, None, None, None, [], [], [])          None     None   \n69  (None, None, None, None, None, [], [], [])          None     None   \n70  (None, None, None, None, None, [], [], [])          None     None   \n\n                  text identifier  \\\n0   (None, None, None)         []   \n1   (None, None, None)         []   \n2   (None, None, None)         []   \n3   (None, None, None)         []   \n4   (None, None, None)         []   \n..                 ...        ...   \n66  (None, None, None)         []   \n67  (None, None, None)         []   \n68  (None, None, None)         []   \n69  (None, None, None)         []   \n70  (None, None, None)         []   \n\n                                       clinicalStatus  \\\n0   (None, [(None, http://terminology.hl7.org/Code...   \n1   (None, [(None, http://terminology.hl7.org/Code...   \n2   (None, [(None, http://terminology.hl7.org/Code...   \n3   (None, [(None, http://terminology.hl7.org/Code...   \n4   (None, [(None, http://terminology.hl7.org/Code...   \n..                                                ...   \n66  (None, [(None, http://terminology.hl7.org/Code...   \n67  (None, [(None, http://terminology.hl7.org/Code...   \n68  (None, [(None, http://terminology.hl7.org/Code...   \n69  (None, [(None, http://terminology.hl7.org/Code...   \n70  (None, [(None, http://terminology.hl7.org/Code...   \n\n                                   verificationStatus category  ...  \\\n0   (None, [(None, http://terminology.hl7.org/Code...       []  ...   \n1   (None, [(None, http://terminology.hl7.org/Code...       []  ...   \n2   (None, [(None, http://terminology.hl7.org/Code...       []  ...   \n3   (None, [(None, http://terminology.hl7.org/Code...       []  ...   \n4   (None, [(None, http://terminology.hl7.org/Code...       []  ...   \n..                                                ...      ...  ...   \n66  (None, [(None, http://terminology.hl7.org/Code...       []  ...   \n67  (None, [(None, http://terminology.hl7.org/Code...       []  ...   \n68  (None, [(None, http://terminology.hl7.org/Code...       []  ...   \n69  (None, [(None, http://terminology.hl7.org/Code...       []  ...   \n70  (None, [(None, http://terminology.hl7.org/Code...       []  ...   \n\n            abatementDateTime abatementPeriod abatementRange abatementString  \\\n0   2010-06-26T18:35:39+00:00            None           None            None   \n1                        None            None           None            None   \n2                        None            None           None            None   \n3   2010-08-24T18:35:39+00:00            None           None            None   \n4                        None            None           None            None   \n..                        ...             ...            ...             ...   \n66                       None            None           None            None   \n67                       None            None           None            None   \n68                       None            None           None            None   \n69  2015-10-25T09:11:55+00:00            None           None            None   \n70  2019-05-05T09:11:55+00:00            None           None            None   \n\n                 recordedDate      recorder      asserter stage evidence note  \n0   2010-06-19T18:35:39+00:00  (None, None)  (None, None)    []       []   []  \n1   2010-11-28T09:24:41+00:00  (None, None)  (None, None)    []       []   []  \n2   2010-11-28T09:24:41+00:00  (None, None)  (None, None)    []       []   []  \n3   2010-08-03T18:35:39+00:00  (None, None)  (None, None)    []       []   []  \n4   1983-01-09T09:11:55+00:00  (None, None)  (None, None)    []       []   []  \n..                        ...           ...           ...   ...      ...  ...  \n66  1971-10-25T09:11:55+00:00  (None, None)  (None, None)    []       []   []  \n67  1977-11-20T09:11:55+00:00  (None, None)  (None, None)    []       []   []  \n68  2005-10-16T09:11:55+00:00  (None, None)  (None, None)    []       []   []  \n69  2015-09-13T09:11:55+00:00  (None, None)  (None, None)    []       []   []  \n70  2019-04-14T09:11:55+00:00  (None, None)  (None, None)    []       []   []  \n\n[71 rows x 31 columns]",
      "text/html": "<div>\n<style scoped>\n    .dataframe tbody tr th:only-of-type {\n        vertical-align: middle;\n    }\n\n    .dataframe tbody tr th {\n        vertical-align: top;\n    }\n\n    .dataframe thead th {\n        text-align: right;\n    }\n</style>\n<table border=\"1\" class=\"dataframe\">\n  <thead>\n    <tr style=\"text-align: right;\">\n      <th></th>\n      <th>id</th>\n      <th>id_versioned</th>\n      <th>meta</th>\n      <th>implicitRules</th>\n      <th>language</th>\n      <th>text</th>\n      <th>identifier</th>\n      <th>clinicalStatus</th>\n      <th>verificationStatus</th>\n      <th>category</th>\n      <th>...</th>\n      <th>abatementDateTime</th>\n      <th>abatementPeriod</th>\n      <th>abatementRange</th>\n      <th>abatementString</th>\n      <th>recordedDate</th>\n      <th>recorder</th>\n      <th>asserter</th>\n      <th>stage</th>\n      <th>evidence</th>\n      <th>note</th>\n    </tr>\n  </thead>\n  <tbody>\n    <tr>\n      <th>0</th>\n      <td>c879c300-7fdf-4b53-aa6a-a2b4a266b30c</td>\n      <td>Condition/c879c300-7fdf-4b53-aa6a-a2b4a266b30c</td>\n      <td>(None, None, None, None, None, [], [], [])</td>\n      <td>None</td>\n      <td>None</td>\n      <td>(None, None, None)</td>\n      <td>[]</td>\n      <td>(None, [(None, http://terminology.hl7.org/Code...</td>\n      <td>(None, [(None, http://terminology.hl7.org/Code...</td>\n      <td>[]</td>\n      <td>...</td>\n      <td>2010-06-26T18:35:39+00:00</td>\n      <td>None</td>\n      <td>None</td>\n      <td>None</td>\n      <td>2010-06-19T18:35:39+00:00</td>\n      <td>(None, None)</td>\n      <td>(None, None)</td>\n      <td>[]</td>\n      <td>[]</td>\n      <td>[]</td>\n    </tr>\n    <tr>\n      <th>1</th>\n      <td>bb9c4fc1-795a-4492-b065-1f497fe18bb2</td>\n      <td>Condition/bb9c4fc1-795a-4492-b065-1f497fe18bb2</td>\n      <td>(None, None, None, None, None, [], [], [])</td>\n      <td>None</td>\n      <td>None</td>\n      <td>(None, None, None)</td>\n      <td>[]</td>\n      <td>(None, [(None, http://terminology.hl7.org/Code...</td>\n      <td>(None, [(None, http://terminology.hl7.org/Code...</td>\n      <td>[]</td>\n      <td>...</td>\n      <td>None</td>\n      <td>None</td>\n      <td>None</td>\n      <td>None</td>\n      <td>2010-11-28T09:24:41+00:00</td>\n      <td>(None, None)</td>\n      <td>(None, None)</td>\n      <td>[]</td>\n      <td>[]</td>\n      <td>[]</td>\n    </tr>\n    <tr>\n      <th>2</th>\n      <td>e620d7ee-6cfe-4f04-ba06-1d0b39f7624d</td>\n      <td>Condition/e620d7ee-6cfe-4f04-ba06-1d0b39f7624d</td>\n      <td>(None, None, None, None, None, [], [], [])</td>\n      <td>None</td>\n      <td>None</td>\n      <td>(None, None, None)</td>\n      <td>[]</td>\n      <td>(None, [(None, http://terminology.hl7.org/Code...</td>\n      <td>(None, [(None, http://terminology.hl7.org/Code...</td>\n      <td>[]</td>\n      <td>...</td>\n      <td>None</td>\n      <td>None</td>\n      <td>None</td>\n      <td>None</td>\n      <td>2010-11-28T09:24:41+00:00</td>\n      <td>(None, None)</td>\n      <td>(None, None)</td>\n      <td>[]</td>\n      <td>[]</td>\n      <td>[]</td>\n    </tr>\n    <tr>\n      <th>3</th>\n      <td>0447de38-1f2a-411c-9fd2-a9c62ab1f221</td>\n      <td>Condition/0447de38-1f2a-411c-9fd2-a9c62ab1f221</td>\n      <td>(None, None, None, None, None, [], [], [])</td>\n      <td>None</td>\n      <td>None</td>\n      <td>(None, None, None)</td>\n      <td>[]</td>\n      <td>(None, [(None, http://terminology.hl7.org/Code...</td>\n      <td>(None, [(None, http://terminology.hl7.org/Code...</td>\n      <td>[]</td>\n      <td>...</td>\n      <td>2010-08-24T18:35:39+00:00</td>\n      <td>None</td>\n      <td>None</td>\n      <td>None</td>\n      <td>2010-08-03T18:35:39+00:00</td>\n      <td>(None, None)</td>\n      <td>(None, None)</td>\n      <td>[]</td>\n      <td>[]</td>\n      <td>[]</td>\n    </tr>\n    <tr>\n      <th>4</th>\n      <td>4025ceb3-04a6-41fb-8569-16a8dcce7ccc</td>\n      <td>Condition/4025ceb3-04a6-41fb-8569-16a8dcce7ccc</td>\n      <td>(None, None, None, None, None, [], [], [])</td>\n      <td>None</td>\n      <td>None</td>\n      <td>(None, None, None)</td>\n      <td>[]</td>\n      <td>(None, [(None, http://terminology.hl7.org/Code...</td>\n      <td>(None, [(None, http://terminology.hl7.org/Code...</td>\n      <td>[]</td>\n      <td>...</td>\n      <td>None</td>\n      <td>None</td>\n      <td>None</td>\n      <td>None</td>\n      <td>1983-01-09T09:11:55+00:00</td>\n      <td>(None, None)</td>\n      <td>(None, None)</td>\n      <td>[]</td>\n      <td>[]</td>\n      <td>[]</td>\n    </tr>\n    <tr>\n      <th>...</th>\n      <td>...</td>\n      <td>...</td>\n      <td>...</td>\n      <td>...</td>\n      <td>...</td>\n      <td>...</td>\n      <td>...</td>\n      <td>...</td>\n      <td>...</td>\n      <td>...</td>\n      <td>...</td>\n      <td>...</td>\n      <td>...</td>\n      <td>...</td>\n      <td>...</td>\n      <td>...</td>\n      <td>...</td>\n      <td>...</td>\n      <td>...</td>\n      <td>...</td>\n      <td>...</td>\n    </tr>\n    <tr>\n      <th>66</th>\n      <td>171ad058-c082-46ab-b9cc-d7bba6e4e3cd</td>\n      <td>Condition/171ad058-c082-46ab-b9cc-d7bba6e4e3cd</td>\n      <td>(None, None, None, None, None, [], [], [])</td>\n      <td>None</td>\n      <td>None</td>\n      <td>(None, None, None)</td>\n      <td>[]</td>\n      <td>(None, [(None, http://terminology.hl7.org/Code...</td>\n      <td>(None, [(None, http://terminology.hl7.org/Code...</td>\n      <td>[]</td>\n      <td>...</td>\n      <td>None</td>\n      <td>None</td>\n      <td>None</td>\n      <td>None</td>\n      <td>1971-10-25T09:11:55+00:00</td>\n      <td>(None, None)</td>\n      <td>(None, None)</td>\n      <td>[]</td>\n      <td>[]</td>\n      <td>[]</td>\n    </tr>\n    <tr>\n      <th>67</th>\n      <td>f1fd855c-802c-417a-ab7c-14a3c9daafc6</td>\n      <td>Condition/f1fd855c-802c-417a-ab7c-14a3c9daafc6</td>\n      <td>(None, None, None, None, None, [], [], [])</td>\n      <td>None</td>\n      <td>None</td>\n      <td>(None, None, None)</td>\n      <td>[]</td>\n      <td>(None, [(None, http://terminology.hl7.org/Code...</td>\n      <td>(None, [(None, http://terminology.hl7.org/Code...</td>\n      <td>[]</td>\n      <td>...</td>\n      <td>None</td>\n      <td>None</td>\n      <td>None</td>\n      <td>None</td>\n      <td>1977-11-20T09:11:55+00:00</td>\n      <td>(None, None)</td>\n      <td>(None, None)</td>\n      <td>[]</td>\n      <td>[]</td>\n      <td>[]</td>\n    </tr>\n    <tr>\n      <th>68</th>\n      <td>aa5a32b3-3993-4eb5-afce-489d0e7413cf</td>\n      <td>Condition/aa5a32b3-3993-4eb5-afce-489d0e7413cf</td>\n      <td>(None, None, None, None, None, [], [], [])</td>\n      <td>None</td>\n      <td>None</td>\n      <td>(None, None, None)</td>\n      <td>[]</td>\n      <td>(None, [(None, http://terminology.hl7.org/Code...</td>\n      <td>(None, [(None, http://terminology.hl7.org/Code...</td>\n      <td>[]</td>\n      <td>...</td>\n      <td>None</td>\n      <td>None</td>\n      <td>None</td>\n      <td>None</td>\n      <td>2005-10-16T09:11:55+00:00</td>\n      <td>(None, None)</td>\n      <td>(None, None)</td>\n      <td>[]</td>\n      <td>[]</td>\n      <td>[]</td>\n    </tr>\n    <tr>\n      <th>69</th>\n      <td>eb373264-da60-4e98-af7c-e3021fdd8d4b</td>\n      <td>Condition/eb373264-da60-4e98-af7c-e3021fdd8d4b</td>\n      <td>(None, None, None, None, None, [], [], [])</td>\n      <td>None</td>\n      <td>None</td>\n      <td>(None, None, None)</td>\n      <td>[]</td>\n      <td>(None, [(None, http://terminology.hl7.org/Code...</td>\n      <td>(None, [(None, http://terminology.hl7.org/Code...</td>\n      <td>[]</td>\n      <td>...</td>\n      <td>2015-10-25T09:11:55+00:00</td>\n      <td>None</td>\n      <td>None</td>\n      <td>None</td>\n      <td>2015-09-13T09:11:55+00:00</td>\n      <td>(None, None)</td>\n      <td>(None, None)</td>\n      <td>[]</td>\n      <td>[]</td>\n      <td>[]</td>\n    </tr>\n    <tr>\n      <th>70</th>\n      <td>5300158c-92cb-40fe-bc14-a449d7b3c1c5</td>\n      <td>Condition/5300158c-92cb-40fe-bc14-a449d7b3c1c5</td>\n      <td>(None, None, None, None, None, [], [], [])</td>\n      <td>None</td>\n      <td>None</td>\n      <td>(None, None, None)</td>\n      <td>[]</td>\n      <td>(None, [(None, http://terminology.hl7.org/Code...</td>\n      <td>(None, [(None, http://terminology.hl7.org/Code...</td>\n      <td>[]</td>\n      <td>...</td>\n      <td>2019-05-05T09:11:55+00:00</td>\n      <td>None</td>\n      <td>None</td>\n      <td>None</td>\n      <td>2019-04-14T09:11:55+00:00</td>\n      <td>(None, None)</td>\n      <td>(None, None)</td>\n      <td>[]</td>\n      <td>[]</td>\n      <td>[]</td>\n    </tr>\n  </tbody>\n</table>\n<p>71 rows × 31 columns</p>\n</div>"
     },
     "execution_count": 2,
     "metadata": {},
     "output_type": "execute_result"
    }
   ],
   "source": [
    "json_resources_dir = \"../../../encoders/src/test/resources/data/resources/R4/json/\"\n",
    "\n",
    "# Load resource files in the ndjson format to the RDD of bundles\n",
    "resource_bundles_rdd = bundles.from_resource_json(\n",
    "        spark.read.text(json_resources_dir),\n",
    "        \"value\")\n",
    "\n",
    "# Extract 'Condition' resources from the RDD of bundles to a dataframe\n",
    "conditions_df = bundles.extract_entry(spark, resource_bundles_rdd, 'Condition')\n",
    "conditions_df.toPandas()"
   ]
  },
  {
   "cell_type": "code",
   "execution_count": 3,
   "id": "309e435b",
   "metadata": {
    "pycharm": {
     "name": "#%%\n"
    }
   },
   "outputs": [
    {
     "data": {
      "text/plain": "                                      id  \\\n0   c879c300-7fdf-4b53-aa6a-a2b4a266b30c   \n1   bb9c4fc1-795a-4492-b065-1f497fe18bb2   \n2   e620d7ee-6cfe-4f04-ba06-1d0b39f7624d   \n3   0447de38-1f2a-411c-9fd2-a9c62ab1f221   \n4   4025ceb3-04a6-41fb-8569-16a8dcce7ccc   \n..                                   ...   \n66  171ad058-c082-46ab-b9cc-d7bba6e4e3cd   \n67  f1fd855c-802c-417a-ab7c-14a3c9daafc6   \n68  aa5a32b3-3993-4eb5-afce-489d0e7413cf   \n69  eb373264-da60-4e98-af7c-e3021fdd8d4b   \n70  5300158c-92cb-40fe-bc14-a449d7b3c1c5   \n\n                                               coding  \n0   (None, http://snomed.info/sct, None, 444814009...  \n1   (None, http://snomed.info/sct, None, 44054006,...  \n2   (None, http://snomed.info/sct, None, 271737000...  \n3   (None, http://snomed.info/sct, None, 444814009...  \n4   (None, http://snomed.info/sct, None, 15777000,...  \n..                                                ...  \n66  (None, http://snomed.info/sct, None, 40055000,...  \n67  (None, http://snomed.info/sct, None, 38341003,...  \n68  (None, http://snomed.info/sct, None, 162864005...  \n69  (None, http://snomed.info/sct, None, 38822007,...  \n70  (None, http://snomed.info/sct, None, 70704007,...  \n\n[71 rows x 2 columns]",
      "text/html": "<div>\n<style scoped>\n    .dataframe tbody tr th:only-of-type {\n        vertical-align: middle;\n    }\n\n    .dataframe tbody tr th {\n        vertical-align: top;\n    }\n\n    .dataframe thead th {\n        text-align: right;\n    }\n</style>\n<table border=\"1\" class=\"dataframe\">\n  <thead>\n    <tr style=\"text-align: right;\">\n      <th></th>\n      <th>id</th>\n      <th>coding</th>\n    </tr>\n  </thead>\n  <tbody>\n    <tr>\n      <th>0</th>\n      <td>c879c300-7fdf-4b53-aa6a-a2b4a266b30c</td>\n      <td>(None, http://snomed.info/sct, None, 444814009...</td>\n    </tr>\n    <tr>\n      <th>1</th>\n      <td>bb9c4fc1-795a-4492-b065-1f497fe18bb2</td>\n      <td>(None, http://snomed.info/sct, None, 44054006,...</td>\n    </tr>\n    <tr>\n      <th>2</th>\n      <td>e620d7ee-6cfe-4f04-ba06-1d0b39f7624d</td>\n      <td>(None, http://snomed.info/sct, None, 271737000...</td>\n    </tr>\n    <tr>\n      <th>3</th>\n      <td>0447de38-1f2a-411c-9fd2-a9c62ab1f221</td>\n      <td>(None, http://snomed.info/sct, None, 444814009...</td>\n    </tr>\n    <tr>\n      <th>4</th>\n      <td>4025ceb3-04a6-41fb-8569-16a8dcce7ccc</td>\n      <td>(None, http://snomed.info/sct, None, 15777000,...</td>\n    </tr>\n    <tr>\n      <th>...</th>\n      <td>...</td>\n      <td>...</td>\n    </tr>\n    <tr>\n      <th>66</th>\n      <td>171ad058-c082-46ab-b9cc-d7bba6e4e3cd</td>\n      <td>(None, http://snomed.info/sct, None, 40055000,...</td>\n    </tr>\n    <tr>\n      <th>67</th>\n      <td>f1fd855c-802c-417a-ab7c-14a3c9daafc6</td>\n      <td>(None, http://snomed.info/sct, None, 38341003,...</td>\n    </tr>\n    <tr>\n      <th>68</th>\n      <td>aa5a32b3-3993-4eb5-afce-489d0e7413cf</td>\n      <td>(None, http://snomed.info/sct, None, 162864005...</td>\n    </tr>\n    <tr>\n      <th>69</th>\n      <td>eb373264-da60-4e98-af7c-e3021fdd8d4b</td>\n      <td>(None, http://snomed.info/sct, None, 38822007,...</td>\n    </tr>\n    <tr>\n      <th>70</th>\n      <td>5300158c-92cb-40fe-bc14-a449d7b3c1c5</td>\n      <td>(None, http://snomed.info/sct, None, 70704007,...</td>\n    </tr>\n  </tbody>\n</table>\n<p>71 rows × 2 columns</p>\n</div>"
     },
     "execution_count": 3,
     "metadata": {},
     "output_type": "execute_result"
    }
   ],
   "source": [
    "coding_df = conditions_df.select(col(\"id\"), explode(col(\"code\").getField(\"coding\")).alias(\"coding\"))\n",
    "coding_df.toPandas()"
   ]
  },
  {
   "cell_type": "code",
   "execution_count": 4,
   "id": "0a75410a",
   "metadata": {
    "pycharm": {
     "name": "#%%\n"
    }
   },
   "outputs": [],
   "source": [
    "# << 275498002|Respiratory tract infection| : << 246075003|Causative agent| = << 49872002|Virus|\n",
    "VIRAL_RESPIRATORY_INFECTION = \"http://snomed.info/sct?fhir_vs=ecl/%3C%3C%20275498002%20%3A%20%3C%3C%20246075003%20%3D%20%3C%3C%2049872002%20\""
   ]
  },
  {
   "cell_type": "code",
   "execution_count": 5,
   "outputs": [
    {
     "name": "stderr",
     "output_type": "stream",
     "text": [
      "                                                                                \r"
     ]
    },
    {
     "data": {
      "text/plain": "                                      id coding.code  \\\n0   c879c300-7fdf-4b53-aa6a-a2b4a266b30c   444814009   \n1   bb9c4fc1-795a-4492-b065-1f497fe18bb2    44054006   \n2   e620d7ee-6cfe-4f04-ba06-1d0b39f7624d   271737000   \n3   0447de38-1f2a-411c-9fd2-a9c62ab1f221   444814009   \n4   4025ceb3-04a6-41fb-8569-16a8dcce7ccc    15777000   \n..                                   ...         ...   \n66  171ad058-c082-46ab-b9cc-d7bba6e4e3cd    40055000   \n67  f1fd855c-802c-417a-ab7c-14a3c9daafc6    38341003   \n68  aa5a32b3-3993-4eb5-afce-489d0e7413cf   162864005   \n69  eb373264-da60-4e98-af7c-e3021fdd8d4b    38822007   \n70  5300158c-92cb-40fe-bc14-a449d7b3c1c5    70704007   \n\n                             coding.display  is_viral_respiratory_infection  \n0                Viral sinusitis (disorder)                            True  \n1                                  Diabetes                           False  \n2                         Anemia (disorder)                           False  \n3                Viral sinusitis (disorder)                            True  \n4                               Prediabetes                           False  \n..                                      ...                             ...  \n66             Chronic sinusitis (disorder)                           False  \n67                             Hypertension                           False  \n68  Body mass index 30+ - obesity (finding)                           False  \n69                                 Cystitis                           False  \n70                          Sprain of wrist                           False  \n\n[71 rows x 4 columns]",
      "text/html": "<div>\n<style scoped>\n    .dataframe tbody tr th:only-of-type {\n        vertical-align: middle;\n    }\n\n    .dataframe tbody tr th {\n        vertical-align: top;\n    }\n\n    .dataframe thead th {\n        text-align: right;\n    }\n</style>\n<table border=\"1\" class=\"dataframe\">\n  <thead>\n    <tr style=\"text-align: right;\">\n      <th></th>\n      <th>id</th>\n      <th>coding.code</th>\n      <th>coding.display</th>\n      <th>is_viral_respiratory_infection</th>\n    </tr>\n  </thead>\n  <tbody>\n    <tr>\n      <th>0</th>\n      <td>c879c300-7fdf-4b53-aa6a-a2b4a266b30c</td>\n      <td>444814009</td>\n      <td>Viral sinusitis (disorder)</td>\n      <td>True</td>\n    </tr>\n    <tr>\n      <th>1</th>\n      <td>bb9c4fc1-795a-4492-b065-1f497fe18bb2</td>\n      <td>44054006</td>\n      <td>Diabetes</td>\n      <td>False</td>\n    </tr>\n    <tr>\n      <th>2</th>\n      <td>e620d7ee-6cfe-4f04-ba06-1d0b39f7624d</td>\n      <td>271737000</td>\n      <td>Anemia (disorder)</td>\n      <td>False</td>\n    </tr>\n    <tr>\n      <th>3</th>\n      <td>0447de38-1f2a-411c-9fd2-a9c62ab1f221</td>\n      <td>444814009</td>\n      <td>Viral sinusitis (disorder)</td>\n      <td>True</td>\n    </tr>\n    <tr>\n      <th>4</th>\n      <td>4025ceb3-04a6-41fb-8569-16a8dcce7ccc</td>\n      <td>15777000</td>\n      <td>Prediabetes</td>\n      <td>False</td>\n    </tr>\n    <tr>\n      <th>...</th>\n      <td>...</td>\n      <td>...</td>\n      <td>...</td>\n      <td>...</td>\n    </tr>\n    <tr>\n      <th>66</th>\n      <td>171ad058-c082-46ab-b9cc-d7bba6e4e3cd</td>\n      <td>40055000</td>\n      <td>Chronic sinusitis (disorder)</td>\n      <td>False</td>\n    </tr>\n    <tr>\n      <th>67</th>\n      <td>f1fd855c-802c-417a-ab7c-14a3c9daafc6</td>\n      <td>38341003</td>\n      <td>Hypertension</td>\n      <td>False</td>\n    </tr>\n    <tr>\n      <th>68</th>\n      <td>aa5a32b3-3993-4eb5-afce-489d0e7413cf</td>\n      <td>162864005</td>\n      <td>Body mass index 30+ - obesity (finding)</td>\n      <td>False</td>\n    </tr>\n    <tr>\n      <th>69</th>\n      <td>eb373264-da60-4e98-af7c-e3021fdd8d4b</td>\n      <td>38822007</td>\n      <td>Cystitis</td>\n      <td>False</td>\n    </tr>\n    <tr>\n      <th>70</th>\n      <td>5300158c-92cb-40fe-bc14-a449d7b3c1c5</td>\n      <td>70704007</td>\n      <td>Sprain of wrist</td>\n      <td>False</td>\n    </tr>\n  </tbody>\n</table>\n<p>71 rows × 4 columns</p>\n</div>"
     },
     "execution_count": 5,
     "metadata": {},
     "output_type": "execute_result"
    }
   ],
   "source": [
    "pathling_ctx = PathlingContext(spark, serverUrl='https://tx.ontoserver.csiro.au/fhir')\n",
    "\n",
    "memberOf_df = pathling_ctx.memberOf(coding_df, col('coding'), VIRAL_RESPIRATORY_INFECTION, 'is_viral_respiratory_infection')\n",
    "memberOf_df.select('id',\n",
    "                   col('coding').getField('code'),\n",
    "                   col('coding').getField('display'),\n",
    "                   col('is_viral_respiratory_infection')).toPandas()"
   ],
   "metadata": {
    "collapsed": false,
    "pycharm": {
     "name": "#%%\n"
    }
   }
  },
  {
   "cell_type": "code",
   "execution_count": 7,
   "outputs": [
    {
     "data": {
      "text/plain": "                                      id coding.code  \\\n0   c879c300-7fdf-4b53-aa6a-a2b4a266b30c   444814009   \n1   bb9c4fc1-795a-4492-b065-1f497fe18bb2    44054006   \n2   e620d7ee-6cfe-4f04-ba06-1d0b39f7624d   271737000   \n3   0447de38-1f2a-411c-9fd2-a9c62ab1f221   444814009   \n4   4025ceb3-04a6-41fb-8569-16a8dcce7ccc    15777000   \n..                                   ...         ...   \n66  171ad058-c082-46ab-b9cc-d7bba6e4e3cd    40055000   \n67  f1fd855c-802c-417a-ab7c-14a3c9daafc6    38341003   \n68  aa5a32b3-3993-4eb5-afce-489d0e7413cf   162864005   \n69  eb373264-da60-4e98-af7c-e3021fdd8d4b    38822007   \n70  5300158c-92cb-40fe-bc14-a449d7b3c1c5    70704007   \n\n                             coding.display readCoding.code  \n0                Viral sinusitis (disorder)           XUjp0  \n1                                  Diabetes           X40J5  \n2                         Anemia (disorder)           XM05A  \n3                Viral sinusitis (disorder)           XUjp0  \n4                               Prediabetes           XUSpl  \n..                                      ...             ...  \n66             Chronic sinusitis (disorder)           H13..  \n67                             Hypertension           XE0Ub  \n68  Body mass index 30+ - obesity (finding)           22K5.  \n69                                 Cystitis           K15..  \n70                          Sprain of wrist           Xa9DD  \n\n[71 rows x 4 columns]",
      "text/html": "<div>\n<style scoped>\n    .dataframe tbody tr th:only-of-type {\n        vertical-align: middle;\n    }\n\n    .dataframe tbody tr th {\n        vertical-align: top;\n    }\n\n    .dataframe thead th {\n        text-align: right;\n    }\n</style>\n<table border=\"1\" class=\"dataframe\">\n  <thead>\n    <tr style=\"text-align: right;\">\n      <th></th>\n      <th>id</th>\n      <th>coding.code</th>\n      <th>coding.display</th>\n      <th>readCoding.code</th>\n    </tr>\n  </thead>\n  <tbody>\n    <tr>\n      <th>0</th>\n      <td>c879c300-7fdf-4b53-aa6a-a2b4a266b30c</td>\n      <td>444814009</td>\n      <td>Viral sinusitis (disorder)</td>\n      <td>XUjp0</td>\n    </tr>\n    <tr>\n      <th>1</th>\n      <td>bb9c4fc1-795a-4492-b065-1f497fe18bb2</td>\n      <td>44054006</td>\n      <td>Diabetes</td>\n      <td>X40J5</td>\n    </tr>\n    <tr>\n      <th>2</th>\n      <td>e620d7ee-6cfe-4f04-ba06-1d0b39f7624d</td>\n      <td>271737000</td>\n      <td>Anemia (disorder)</td>\n      <td>XM05A</td>\n    </tr>\n    <tr>\n      <th>3</th>\n      <td>0447de38-1f2a-411c-9fd2-a9c62ab1f221</td>\n      <td>444814009</td>\n      <td>Viral sinusitis (disorder)</td>\n      <td>XUjp0</td>\n    </tr>\n    <tr>\n      <th>4</th>\n      <td>4025ceb3-04a6-41fb-8569-16a8dcce7ccc</td>\n      <td>15777000</td>\n      <td>Prediabetes</td>\n      <td>XUSpl</td>\n    </tr>\n    <tr>\n      <th>...</th>\n      <td>...</td>\n      <td>...</td>\n      <td>...</td>\n      <td>...</td>\n    </tr>\n    <tr>\n      <th>66</th>\n      <td>171ad058-c082-46ab-b9cc-d7bba6e4e3cd</td>\n      <td>40055000</td>\n      <td>Chronic sinusitis (disorder)</td>\n      <td>H13..</td>\n    </tr>\n    <tr>\n      <th>67</th>\n      <td>f1fd855c-802c-417a-ab7c-14a3c9daafc6</td>\n      <td>38341003</td>\n      <td>Hypertension</td>\n      <td>XE0Ub</td>\n    </tr>\n    <tr>\n      <th>68</th>\n      <td>aa5a32b3-3993-4eb5-afce-489d0e7413cf</td>\n      <td>162864005</td>\n      <td>Body mass index 30+ - obesity (finding)</td>\n      <td>22K5.</td>\n    </tr>\n    <tr>\n      <th>69</th>\n      <td>eb373264-da60-4e98-af7c-e3021fdd8d4b</td>\n      <td>38822007</td>\n      <td>Cystitis</td>\n      <td>K15..</td>\n    </tr>\n    <tr>\n      <th>70</th>\n      <td>5300158c-92cb-40fe-bc14-a449d7b3c1c5</td>\n      <td>70704007</td>\n      <td>Sprain of wrist</td>\n      <td>Xa9DD</td>\n    </tr>\n  </tbody>\n</table>\n<p>71 rows × 4 columns</p>\n</div>"
     },
     "execution_count": 7,
     "metadata": {},
     "output_type": "execute_result"
    }
   ],
   "source": [
    "TO_READ_CONCEPT_MAP_URI = \"http://snomed.info/sct/900000000000207008?fhir_cm=900000000000497000\"\n",
    "\n",
    "translated_df = pathling_ctx.translate(coding_df, col('coding'), TO_READ_CONCEPT_MAP_URI,\n",
    "                                       outputColumnName='readCoding')\n",
    "translated_df.select('id',\n",
    "                              col('coding').getField('code'),\n",
    "                              col('coding').getField('display'),\n",
    "                              col('readCoding').getField('code'),\n",
    "                              ).toPandas()"
   ],
   "metadata": {
    "collapsed": false,
    "pycharm": {
     "name": "#%%\n"
    }
   }
  },
  {
   "cell_type": "code",
   "execution_count": null,
   "outputs": [],
   "source": [],
   "metadata": {
    "collapsed": false,
    "pycharm": {
     "name": "#%%\n"
    }
   }
  }
 ],
 "metadata": {
  "kernelspec": {
   "display_name": "Python 3 (ipykernel)",
   "language": "python",
   "name": "python3"
  },
  "language_info": {
   "codemirror_mode": {
    "name": "ipython",
    "version": 3
   },
   "file_extension": ".py",
   "mimetype": "text/x-python",
   "name": "python",
   "nbconvert_exporter": "python",
   "pygments_lexer": "ipython3",
   "version": "3.8.13"
  }
 },
 "nbformat": 4,
 "nbformat_minor": 5
}